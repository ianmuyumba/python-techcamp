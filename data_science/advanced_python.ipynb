{
 "cells": [
  {
   "cell_type": "code",
   "execution_count": 1,
   "metadata": {},
   "outputs": [
    {
     "name": "stdout",
     "output_type": "stream",
     "text": [
      "Hello World\n"
     ]
    }
   ],
   "source": [
    "print(\"Hello World\")"
   ]
  },
  {
   "cell_type": "code",
   "execution_count": 2,
   "metadata": {},
   "outputs": [
    {
     "name": "stdout",
     "output_type": "stream",
     "text": [
      "[78, 98, 82]\n",
      "[34, 45, 25, 35, 48]\n"
     ]
    }
   ],
   "source": [
    "scores = [34,45,25,78,98,82,35,48]\n",
    "# Generate a list that contains scores greater than 50\n",
    "\n",
    "greater50 = []\n",
    "lessEqual50 = []\n",
    "\n",
    "for i in scores:\n",
    "    if i > 50:\n",
    "        greater50.append(i)\n",
    "    else:\n",
    "        lessEqual50.append(i)\n",
    "\n",
    "print(greater50)\n",
    "print(lessEqual50)"
   ]
  },
  {
   "cell_type": "code",
   "execution_count": 3,
   "metadata": {},
   "outputs": [],
   "source": [
    "### Write a python script on a cell in Jupyter Notebook that creates an output list which contains only the even numbers between 9 and 48."
   ]
  },
  {
   "cell_type": "code",
   "execution_count": 4,
   "metadata": {},
   "outputs": [],
   "source": [
    "#### Write a python script on a cell in Jupyter Notebook that creates an output list which contains only the even numbers between 9 and 48."
   ]
  },
  {
   "cell_type": "code",
   "execution_count": 5,
   "metadata": {},
   "outputs": [
    {
     "name": "stdout",
     "output_type": "stream",
     "text": [
      "[10, 12, 14, 16, 18, 20, 22, 24, 26, 28, 30, 32, 34, 36, 38, 40, 42, 44, 46]\n"
     ]
    }
   ],
   "source": [
    "even9_48 = [ x for x in range(9,48) if x % 2 == 0]\n",
    "print(even9_48)"
   ]
  },
  {
   "cell_type": "code",
   "execution_count": null,
   "metadata": {},
   "outputs": [],
   "source": [
    "evenOdd = lambda x: if x % 2 == 0\n",
    "    "
   ]
  }
 ],
 "metadata": {
  "kernelspec": {
   "display_name": "Python 3",
   "language": "python",
   "name": "python3"
  },
  "language_info": {
   "codemirror_mode": {
    "name": "ipython",
    "version": 3
   },
   "file_extension": ".py",
   "mimetype": "text/x-python",
   "name": "python",
   "nbconvert_exporter": "python",
   "pygments_lexer": "ipython3",
   "version": "3.7.6"
  }
 },
 "nbformat": 4,
 "nbformat_minor": 4
}
