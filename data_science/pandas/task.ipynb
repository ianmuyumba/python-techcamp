{
 "cells": [
  {
   "cell_type": "markdown",
   "metadata": {},
   "source": [
    "### Task:\n",
    "\n",
    "* Create a temporary dataframe using the copy method\n",
    "* Find out how to drop the columns which have less values e.g metascore\n",
    "* Replaceall null values in relatively filled in columns with the corresponding measure of central tendency e.g replace country missing values with the mode.\n",
    "\n",
    "NB: Make sure all columns with null values are dealt with appropriately in the temporary dataframe copy you created"
   ]
  },
  {
   "cell_type": "code",
   "execution_count": 1,
   "metadata": {},
   "outputs": [],
   "source": [
    "import pandas as pd"
   ]
  },
  {
   "cell_type": "code",
   "execution_count": 45,
   "metadata": {},
   "outputs": [],
   "source": [
    "movies = pd.read_csv(\"IMDb_movies.csv\")"
   ]
  },
  {
   "cell_type": "code",
   "execution_count": 46,
   "metadata": {},
   "outputs": [
    {
     "data": {
      "text/plain": [
       "(81273, 22)"
      ]
     },
     "execution_count": 46,
     "metadata": {},
     "output_type": "execute_result"
    }
   ],
   "source": [
    "movies.shape"
   ]
  },
  {
   "cell_type": "code",
   "execution_count": 47,
   "metadata": {},
   "outputs": [],
   "source": [
    "moviesCopy = movies.copy()"
   ]
  },
  {
   "cell_type": "code",
   "execution_count": 48,
   "metadata": {},
   "outputs": [
    {
     "data": {
      "text/plain": [
       "(81273, 22)"
      ]
     },
     "execution_count": 48,
     "metadata": {},
     "output_type": "execute_result"
    }
   ],
   "source": [
    "moviesCopy.shape"
   ]
  },
  {
   "cell_type": "code",
   "execution_count": 49,
   "metadata": {},
   "outputs": [
    {
     "name": "stdout",
     "output_type": "stream",
     "text": [
      "<class 'pandas.core.frame.DataFrame'>\n",
      "RangeIndex: 81273 entries, 0 to 81272\n",
      "Data columns (total 22 columns):\n",
      " #   Column                 Non-Null Count  Dtype  \n",
      "---  ------                 --------------  -----  \n",
      " 0   imdb_title_id          81273 non-null  object \n",
      " 1   title                  81273 non-null  object \n",
      " 2   original_title         81273 non-null  object \n",
      " 3   year                   81273 non-null  int64  \n",
      " 4   date_published         81273 non-null  object \n",
      " 5   genre                  81273 non-null  object \n",
      " 6   duration               81273 non-null  int64  \n",
      " 7   country                81234 non-null  object \n",
      " 8   language               80518 non-null  object \n",
      " 9   director               81200 non-null  object \n",
      " 10  writer                 79780 non-null  object \n",
      " 11  production_company     76948 non-null  object \n",
      " 12  actors                 81207 non-null  object \n",
      " 13  description            78843 non-null  object \n",
      " 14  avg_vote               81273 non-null  float64\n",
      " 15  votes                  81273 non-null  int64  \n",
      " 16  budget                 22804 non-null  object \n",
      " 17  usa_gross_income       15094 non-null  object \n",
      " 18  worlwide_gross_income  29892 non-null  object \n",
      " 19  metascore              12722 non-null  float64\n",
      " 20  reviews_from_users     74196 non-null  float64\n",
      " 21  reviews_from_critics   70286 non-null  float64\n",
      "dtypes: float64(4), int64(3), object(15)\n",
      "memory usage: 13.6+ MB\n"
     ]
    }
   ],
   "source": [
    "moviesCopy.info()"
   ]
  },
  {
   "cell_type": "code",
   "execution_count": 50,
   "metadata": {},
   "outputs": [
    {
     "data": {
      "text/plain": [
       "count    12722.000000\n",
       "mean        55.762695\n",
       "std         17.757453\n",
       "min          1.000000\n",
       "25%         43.000000\n",
       "50%         56.000000\n",
       "75%         69.000000\n",
       "max        100.000000\n",
       "Name: metascore, dtype: float64"
      ]
     },
     "execution_count": 50,
     "metadata": {},
     "output_type": "execute_result"
    }
   ],
   "source": [
    "moviesCopy[\"metascore\"].describe()"
   ]
  },
  {
   "cell_type": "code",
   "execution_count": 51,
   "metadata": {},
   "outputs": [
    {
     "data": {
      "text/plain": [
       "0       NaN\n",
       "1       NaN\n",
       "2       NaN\n",
       "3       NaN\n",
       "4       NaN\n",
       "         ..\n",
       "81268   NaN\n",
       "81269   NaN\n",
       "81270   NaN\n",
       "81271   NaN\n",
       "81272   NaN\n",
       "Name: metascore, Length: 81273, dtype: float64"
      ]
     },
     "execution_count": 51,
     "metadata": {},
     "output_type": "execute_result"
    }
   ],
   "source": [
    "moviesCopy.pop(\"metascore\")"
   ]
  },
  {
   "cell_type": "code",
   "execution_count": 52,
   "metadata": {},
   "outputs": [
    {
     "name": "stdout",
     "output_type": "stream",
     "text": [
      "<class 'pandas.core.frame.DataFrame'>\n",
      "RangeIndex: 81273 entries, 0 to 81272\n",
      "Data columns (total 21 columns):\n",
      " #   Column                 Non-Null Count  Dtype  \n",
      "---  ------                 --------------  -----  \n",
      " 0   imdb_title_id          81273 non-null  object \n",
      " 1   title                  81273 non-null  object \n",
      " 2   original_title         81273 non-null  object \n",
      " 3   year                   81273 non-null  int64  \n",
      " 4   date_published         81273 non-null  object \n",
      " 5   genre                  81273 non-null  object \n",
      " 6   duration               81273 non-null  int64  \n",
      " 7   country                81234 non-null  object \n",
      " 8   language               80518 non-null  object \n",
      " 9   director               81200 non-null  object \n",
      " 10  writer                 79780 non-null  object \n",
      " 11  production_company     76948 non-null  object \n",
      " 12  actors                 81207 non-null  object \n",
      " 13  description            78843 non-null  object \n",
      " 14  avg_vote               81273 non-null  float64\n",
      " 15  votes                  81273 non-null  int64  \n",
      " 16  budget                 22804 non-null  object \n",
      " 17  usa_gross_income       15094 non-null  object \n",
      " 18  worlwide_gross_income  29892 non-null  object \n",
      " 19  reviews_from_users     74196 non-null  float64\n",
      " 20  reviews_from_critics   70286 non-null  float64\n",
      "dtypes: float64(3), int64(3), object(15)\n",
      "memory usage: 13.0+ MB\n"
     ]
    }
   ],
   "source": [
    "moviesCopy.info()"
   ]
  },
  {
   "cell_type": "code",
   "execution_count": 53,
   "metadata": {},
   "outputs": [
    {
     "data": {
      "text/plain": [
       "0         70\n",
       "1         53\n",
       "2        100\n",
       "3         68\n",
       "4         60\n",
       "        ... \n",
       "81268    106\n",
       "81269    120\n",
       "81270    111\n",
       "81271    130\n",
       "81272     98\n",
       "Name: duration, Length: 81273, dtype: int64"
      ]
     },
     "execution_count": 53,
     "metadata": {},
     "output_type": "execute_result"
    }
   ],
   "source": [
    "moviesCopy.pop(\"duration\")"
   ]
  },
  {
   "cell_type": "code",
   "execution_count": 54,
   "metadata": {},
   "outputs": [
    {
     "name": "stdout",
     "output_type": "stream",
     "text": [
      "<class 'pandas.core.frame.DataFrame'>\n",
      "RangeIndex: 81273 entries, 0 to 81272\n",
      "Data columns (total 20 columns):\n",
      " #   Column                 Non-Null Count  Dtype  \n",
      "---  ------                 --------------  -----  \n",
      " 0   imdb_title_id          81273 non-null  object \n",
      " 1   title                  81273 non-null  object \n",
      " 2   original_title         81273 non-null  object \n",
      " 3   year                   81273 non-null  int64  \n",
      " 4   date_published         81273 non-null  object \n",
      " 5   genre                  81273 non-null  object \n",
      " 6   country                81234 non-null  object \n",
      " 7   language               80518 non-null  object \n",
      " 8   director               81200 non-null  object \n",
      " 9   writer                 79780 non-null  object \n",
      " 10  production_company     76948 non-null  object \n",
      " 11  actors                 81207 non-null  object \n",
      " 12  description            78843 non-null  object \n",
      " 13  avg_vote               81273 non-null  float64\n",
      " 14  votes                  81273 non-null  int64  \n",
      " 15  budget                 22804 non-null  object \n",
      " 16  usa_gross_income       15094 non-null  object \n",
      " 17  worlwide_gross_income  29892 non-null  object \n",
      " 18  reviews_from_users     74196 non-null  float64\n",
      " 19  reviews_from_critics   70286 non-null  float64\n",
      "dtypes: float64(3), int64(2), object(15)\n",
      "memory usage: 12.4+ MB\n"
     ]
    }
   ],
   "source": [
    "moviesCopy.info()"
   ]
  },
  {
   "cell_type": "code",
   "execution_count": 55,
   "metadata": {},
   "outputs": [
    {
     "name": "stdout",
     "output_type": "stream",
     "text": [
      "<class 'pandas.core.frame.DataFrame'>\n",
      "RangeIndex: 81273 entries, 0 to 81272\n",
      "Data columns (total 19 columns):\n",
      " #   Column                 Non-Null Count  Dtype  \n",
      "---  ------                 --------------  -----  \n",
      " 0   imdb_title_id          81273 non-null  object \n",
      " 1   title                  81273 non-null  object \n",
      " 2   original_title         81273 non-null  object \n",
      " 3   year                   81273 non-null  int64  \n",
      " 4   date_published         81273 non-null  object \n",
      " 5   genre                  81273 non-null  object \n",
      " 6   country                81234 non-null  object \n",
      " 7   language               80518 non-null  object \n",
      " 8   director               81200 non-null  object \n",
      " 9   writer                 79780 non-null  object \n",
      " 10  production_company     76948 non-null  object \n",
      " 11  actors                 81207 non-null  object \n",
      " 12  avg_vote               81273 non-null  float64\n",
      " 13  votes                  81273 non-null  int64  \n",
      " 14  budget                 22804 non-null  object \n",
      " 15  usa_gross_income       15094 non-null  object \n",
      " 16  worlwide_gross_income  29892 non-null  object \n",
      " 17  reviews_from_users     74196 non-null  float64\n",
      " 18  reviews_from_critics   70286 non-null  float64\n",
      "dtypes: float64(3), int64(2), object(14)\n",
      "memory usage: 11.8+ MB\n"
     ]
    }
   ],
   "source": [
    "# Dropping columns with lots of null values\n",
    "\n",
    "moviesCopy.drop([\"description\"], axis = 1, inplace = True)\n",
    "moviesCopy.info()"
   ]
  },
  {
   "cell_type": "code",
   "execution_count": null,
   "metadata": {},
   "outputs": [],
   "source": []
  }
 ],
 "metadata": {
  "kernelspec": {
   "display_name": "Python 3",
   "language": "python",
   "name": "python3"
  },
  "language_info": {
   "codemirror_mode": {
    "name": "ipython",
    "version": 3
   },
   "file_extension": ".py",
   "mimetype": "text/x-python",
   "name": "python",
   "nbconvert_exporter": "python",
   "pygments_lexer": "ipython3",
   "version": "3.7.6"
  }
 },
 "nbformat": 4,
 "nbformat_minor": 4
}
