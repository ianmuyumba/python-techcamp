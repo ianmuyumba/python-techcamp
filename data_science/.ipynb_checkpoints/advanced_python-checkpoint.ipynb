{
 "cells": [
  {
   "cell_type": "code",
   "execution_count": 1,
   "metadata": {},
   "outputs": [
    {
     "name": "stdout",
     "output_type": "stream",
     "text": [
      "Hello World\n"
     ]
    }
   ],
   "source": [
    "print(\"Hello World\")"
   ]
  },
  {
   "cell_type": "code",
   "execution_count": null,
   "metadata": {},
   "outputs": [],
   "source": [
    "scores = [34,45,25,78,98,82,35,48]\n",
    "# Generate a list that contains scores greater than 50\n",
    "\n",
    "greater50 = []\n",
    "lessEqual50 = []\n",
    "\n",
    "for i in scores:\n",
    "    if i > 50:\n",
    "        greater50.append(i)\n",
    "    else:\n",
    "        lessEqual50.append(i)\n",
    "\n",
    "print(greater50)\n",
    "print(lessEqual50)"
   ]
  }
 ],
 "metadata": {
  "kernelspec": {
   "display_name": "Python 3",
   "language": "python",
   "name": "python3"
  },
  "language_info": {
   "codemirror_mode": {
    "name": "ipython",
    "version": 3
   },
   "file_extension": ".py",
   "mimetype": "text/x-python",
   "name": "python",
   "nbconvert_exporter": "python",
   "pygments_lexer": "ipython3",
   "version": "3.7.6"
  }
 },
 "nbformat": 4,
 "nbformat_minor": 4
}
